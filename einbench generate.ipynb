{
 "cells": [
  {
   "cell_type": "code",
   "execution_count": null,
   "id": "887f327b",
   "metadata": {},
   "outputs": [],
   "source": [
    "%config InlineBackend.figure_formats = ['svg']\n",
    "\n",
    "import pathlib\n",
    "\n",
    "import matplotlib.pyplot as plt # noqa\n",
    "import numpy as np\n",
    "import einbench"
   ]
  },
  {
   "cell_type": "markdown",
   "id": "8a2b3d79",
   "metadata": {},
   "source": [
    "Generate a range of pairwise contractions with theoretical number of scalar\n",
    "operations varying up $\\sim10^9$.\n",
    "\n",
    "- half are generate with guaranteed no batch dimensions (i.e. can map to matrix multiplication), half with possible batch dimensions.\n",
    "- we don't generate contractions with summed or trace indices, as these can be trivially reduced before contraction."
   ]
  },
  {
   "cell_type": "code",
   "execution_count": null,
   "id": "754c372a",
   "metadata": {},
   "outputs": [],
   "source": [
    "flopss = []\n",
    "sizes = []\n",
    "\n",
    "out_path = pathlib.Path(\"contractions_benchmark.txt\")\n",
    "out_path.parent.mkdir(parents=True, exist_ok=True)\n",
    "i = 0\n",
    "\n",
    "seen = set()\n",
    "\n",
    "with out_path.open(mode=\"w\", encoding=\"utf-8\") as f:\n",
    "\n",
    "    for C in np.arange(2.0, 30.01, 0.5):\n",
    "        for seed in range(10):\n",
    "            for allow_batch in [False, True]:\n",
    "\n",
    "                inputs, output, size_dict = einbench.random_pairwise_contraction(\n",
    "                    cost=2**C,\n",
    "                    allow_batch=allow_batch,\n",
    "                    allow_outer=True,\n",
    "                    allow_scalar=True,\n",
    "                    allow_sum=False,\n",
    "                    allow_trace=False,\n",
    "                    seed=seed\n",
    "                )\n",
    "\n",
    "                eq = (\n",
    "                    f\"{''.join(inputs[0])},\"\n",
    "                    f\"{''.join(inputs[1])}->\"\n",
    "                    f\"{''.join(output)}\"\n",
    "                )\n",
    "\n",
    "                con = f\"{eq}; size_dict={size_dict};\"\n",
    "                if con in seen:\n",
    "                    continue\n",
    "                seen.add(con)\n",
    "\n",
    "                # eq = ctg.utils.inputs_output_to_eq(inputs, output)\n",
    "                f.write(f\"i={i}; {con}\\n\")\n",
    "\n",
    "                flops, size = einbench.compute_flops_and_size(\n",
    "                    inputs, output, size_dict\n",
    "                )\n",
    "                flopss.append(flops)\n",
    "                sizes.append(size)\n",
    "                i += 1"
   ]
  },
  {
   "cell_type": "code",
   "execution_count": 3,
   "id": "b7da1753",
   "metadata": {},
   "outputs": [
    {
     "data": {
      "image/svg+xml": [
       "<?xml version=\"1.0\" encoding=\"UTF-8\"?><!DOCTYPE svg  PUBLIC '-//W3C//DTD SVG 1.1//EN'  'http://www.w3.org/Graphics/SVG/1.1/DTD/svg11.dtd'><svg width=\"391.24pt\" height=\"297.19pt\" version=\"1.1\" viewBox=\"0 0 391.24 297.19\" xmlns=\"http://www.w3.org/2000/svg\" xmlns:xlink=\"http://www.w3.org/1999/xlink\"><defs><style type=\"text/css\">*{stroke-linejoin: round; stroke-linecap: butt}</style></defs><path d=\"m0 297.19h391.24v-297.19h-391.24z\" fill=\"#ffffff\"/><path d=\"m26.925 273.31h357.12v-266.11h-357.12z\" fill=\"#ffffff\"/><path d=\"m43.158 273.31h10.112v-101.38h-10.112z\" clip-path=\"url(#b3dd4b0e0f9)\" fill=\"#1f77b4\" opacity=\".5\"/><path d=\"m53.269 273.31h10.112v-165.89h-10.112z\" clip-path=\"url(#b3dd4b0e0f9)\" fill=\"#1f77b4\" opacity=\".5\"/><path d=\"m63.381 273.31h10.112v-179.71h-10.112z\" clip-path=\"url(#b3dd4b0e0f9)\" fill=\"#1f77b4\" opacity=\".5\"/><path d=\"m73.493 273.31h10.112v-156.67h-10.112z\" clip-path=\"url(#b3dd4b0e0f9)\" fill=\"#1f77b4\" opacity=\".5\"/><path d=\"m83.604 273.31h10.112v-184.32h-10.112z\" clip-path=\"url(#b3dd4b0e0f9)\" fill=\"#1f77b4\" opacity=\".5\"/><path d=\"m93.716 273.31h10.112v-165.89h-10.112z\" clip-path=\"url(#b3dd4b0e0f9)\" fill=\"#1f77b4\" opacity=\".5\"/><path d=\"m103.83 273.31h10.112v-152.06h-10.112z\" clip-path=\"url(#b3dd4b0e0f9)\" fill=\"#1f77b4\" opacity=\".5\"/><path d=\"m113.94 273.31h10.112v-170.5h-10.112z\" clip-path=\"url(#b3dd4b0e0f9)\" fill=\"#1f77b4\" opacity=\".5\"/><path d=\"m124.05 273.31h10.112v-165.89h-10.112z\" clip-path=\"url(#b3dd4b0e0f9)\" fill=\"#1f77b4\" opacity=\".5\"/><path d=\"m134.16 273.31h10.112v-184.32h-10.112z\" clip-path=\"url(#b3dd4b0e0f9)\" fill=\"#1f77b4\" opacity=\".5\"/><path d=\"m144.27 273.31h10.112v-147.46h-10.112z\" clip-path=\"url(#b3dd4b0e0f9)\" fill=\"#1f77b4\" opacity=\".5\"/><path d=\"m154.39 273.31h10.112v-152.06h-10.112z\" clip-path=\"url(#b3dd4b0e0f9)\" fill=\"#1f77b4\" opacity=\".5\"/><path d=\"m164.5 273.31h10.112v-152.06h-10.112z\" clip-path=\"url(#b3dd4b0e0f9)\" fill=\"#1f77b4\" opacity=\".5\"/><path d=\"m174.61 273.31h10.112v-184.32h-10.112z\" clip-path=\"url(#b3dd4b0e0f9)\" fill=\"#1f77b4\" opacity=\".5\"/><path d=\"m184.72 273.31h10.112v-175.1h-10.112z\" clip-path=\"url(#b3dd4b0e0f9)\" fill=\"#1f77b4\" opacity=\".5\"/><path d=\"m194.83 273.31h10.112v-179.71h-10.112z\" clip-path=\"url(#b3dd4b0e0f9)\" fill=\"#1f77b4\" opacity=\".5\"/><path d=\"m204.94 273.31h10.112v-138.24h-10.112z\" clip-path=\"url(#b3dd4b0e0f9)\" fill=\"#1f77b4\" opacity=\".5\"/><path d=\"m215.05 273.31h10.112v-170.5h-10.112z\" clip-path=\"url(#b3dd4b0e0f9)\" fill=\"#1f77b4\" opacity=\".5\"/><path d=\"m225.17 273.31h10.112v-170.5h-10.112z\" clip-path=\"url(#b3dd4b0e0f9)\" fill=\"#1f77b4\" opacity=\".5\"/><path d=\"m235.28 273.31h10.112v-170.5h-10.112z\" clip-path=\"url(#b3dd4b0e0f9)\" fill=\"#1f77b4\" opacity=\".5\"/><path d=\"m245.39 273.31h10.112v-170.5h-10.112z\" clip-path=\"url(#b3dd4b0e0f9)\" fill=\"#1f77b4\" opacity=\".5\"/><path d=\"m255.5 273.31h10.112v-156.67h-10.112z\" clip-path=\"url(#b3dd4b0e0f9)\" fill=\"#1f77b4\" opacity=\".5\"/><path d=\"m265.61 273.31h10.112v-152.06h-10.112z\" clip-path=\"url(#b3dd4b0e0f9)\" fill=\"#1f77b4\" opacity=\".5\"/><path d=\"m275.72 273.31h10.112v-179.71h-10.112z\" clip-path=\"url(#b3dd4b0e0f9)\" fill=\"#1f77b4\" opacity=\".5\"/><path d=\"m285.84 273.31h10.112v-184.32h-10.112z\" clip-path=\"url(#b3dd4b0e0f9)\" fill=\"#1f77b4\" opacity=\".5\"/><path d=\"m295.95 273.31h10.112v-147.46h-10.112z\" clip-path=\"url(#b3dd4b0e0f9)\" fill=\"#1f77b4\" opacity=\".5\"/><path d=\"m306.06 273.31h10.112v-170.5h-10.112z\" clip-path=\"url(#b3dd4b0e0f9)\" fill=\"#1f77b4\" opacity=\".5\"/><path d=\"m316.17 273.31h10.112v-142.85h-10.112z\" clip-path=\"url(#b3dd4b0e0f9)\" fill=\"#1f77b4\" opacity=\".5\"/><path d=\"m326.28 273.31h10.112v-184.32h-10.112z\" clip-path=\"url(#b3dd4b0e0f9)\" fill=\"#1f77b4\" opacity=\".5\"/><path d=\"m336.39 273.31h10.112v-170.5h-10.112z\" clip-path=\"url(#b3dd4b0e0f9)\" fill=\"#1f77b4\" opacity=\".5\"/><path d=\"m346.51 273.31h10.112v-175.1h-10.112z\" clip-path=\"url(#b3dd4b0e0f9)\" fill=\"#1f77b4\" opacity=\".5\"/><path d=\"m54.353 273.31h10.112v-152.06h-10.112z\" clip-path=\"url(#b3dd4b0e0f9)\" fill=\"#ff7f0e\" opacity=\".5\"/><path d=\"m64.464 273.31h10.112v-198.14h-10.112z\" clip-path=\"url(#b3dd4b0e0f9)\" fill=\"#ff7f0e\" opacity=\".5\"/><path d=\"m74.576 273.31h10.112v-188.93h-10.112z\" clip-path=\"url(#b3dd4b0e0f9)\" fill=\"#ff7f0e\" opacity=\".5\"/><path d=\"m84.688 273.31h10.112v-184.32h-10.112z\" clip-path=\"url(#b3dd4b0e0f9)\" fill=\"#ff7f0e\" opacity=\".5\"/><path d=\"m94.799 273.31h10.112v-225.79h-10.112z\" clip-path=\"url(#b3dd4b0e0f9)\" fill=\"#ff7f0e\" opacity=\".5\"/><path d=\"m104.91 273.31h10.112v-165.89h-10.112z\" clip-path=\"url(#b3dd4b0e0f9)\" fill=\"#ff7f0e\" opacity=\".5\"/><path d=\"m115.02 273.31h10.112v-248.83h-10.112z\" clip-path=\"url(#b3dd4b0e0f9)\" fill=\"#ff7f0e\" opacity=\".5\"/><path d=\"m125.13 273.31h10.112v-170.5h-10.112z\" clip-path=\"url(#b3dd4b0e0f9)\" fill=\"#ff7f0e\" opacity=\".5\"/><path d=\"m135.25 273.31h10.112v-202.75h-10.112z\" clip-path=\"url(#b3dd4b0e0f9)\" fill=\"#ff7f0e\" opacity=\".5\"/><path d=\"m145.36 273.31h10.112v-230.4h-10.112z\" clip-path=\"url(#b3dd4b0e0f9)\" fill=\"#ff7f0e\" opacity=\".5\"/><path d=\"m155.47 273.31h10.112v-175.1h-10.112z\" clip-path=\"url(#b3dd4b0e0f9)\" fill=\"#ff7f0e\" opacity=\".5\"/><path d=\"m165.58 273.31h10.112v-216.58h-10.112z\" clip-path=\"url(#b3dd4b0e0f9)\" fill=\"#ff7f0e\" opacity=\".5\"/><path d=\"m175.69 273.31h10.112v-202.75h-10.112z\" clip-path=\"url(#b3dd4b0e0f9)\" fill=\"#ff7f0e\" opacity=\".5\"/><path d=\"m185.8 273.31h10.112v-193.54h-10.112z\" clip-path=\"url(#b3dd4b0e0f9)\" fill=\"#ff7f0e\" opacity=\".5\"/><path d=\"m195.92 273.31h10.112v-235.01h-10.112z\" clip-path=\"url(#b3dd4b0e0f9)\" fill=\"#ff7f0e\" opacity=\".5\"/><path d=\"m206.03 273.31h10.112v-239.62h-10.112z\" clip-path=\"url(#b3dd4b0e0f9)\" fill=\"#ff7f0e\" opacity=\".5\"/><path d=\"m216.14 273.31h10.112v-207.36h-10.112z\" clip-path=\"url(#b3dd4b0e0f9)\" fill=\"#ff7f0e\" opacity=\".5\"/><path d=\"m226.25 273.31h10.112v-170.5h-10.112z\" clip-path=\"url(#b3dd4b0e0f9)\" fill=\"#ff7f0e\" opacity=\".5\"/><path d=\"m236.36 273.31h10.112v-147.46h-10.112z\" clip-path=\"url(#b3dd4b0e0f9)\" fill=\"#ff7f0e\" opacity=\".5\"/><path d=\"m246.47 273.31h10.112v-253.44h-10.112z\" clip-path=\"url(#b3dd4b0e0f9)\" fill=\"#ff7f0e\" opacity=\".5\"/><path d=\"m256.58 273.31h10.112v-193.54h-10.112z\" clip-path=\"url(#b3dd4b0e0f9)\" fill=\"#ff7f0e\" opacity=\".5\"/><path d=\"m266.7 273.31h10.112v-184.32h-10.112z\" clip-path=\"url(#b3dd4b0e0f9)\" fill=\"#ff7f0e\" opacity=\".5\"/><path d=\"m276.81 273.31h10.112v-170.5h-10.112z\" clip-path=\"url(#b3dd4b0e0f9)\" fill=\"#ff7f0e\" opacity=\".5\"/><path d=\"m286.92 273.31h10.112v-142.85h-10.112z\" clip-path=\"url(#b3dd4b0e0f9)\" fill=\"#ff7f0e\" opacity=\".5\"/><path d=\"m297.03 273.31h10.112v-124.42h-10.112z\" clip-path=\"url(#b3dd4b0e0f9)\" fill=\"#ff7f0e\" opacity=\".5\"/><path d=\"m307.14 273.31h10.112v-82.944h-10.112z\" clip-path=\"url(#b3dd4b0e0f9)\" fill=\"#ff7f0e\" opacity=\".5\"/><path d=\"m317.25 273.31h10.112v-55.296h-10.112z\" clip-path=\"url(#b3dd4b0e0f9)\" fill=\"#ff7f0e\" opacity=\".5\"/><path d=\"m327.37 273.31h10.112v-41.472h-10.112z\" clip-path=\"url(#b3dd4b0e0f9)\" fill=\"#ff7f0e\" opacity=\".5\"/><path d=\"m337.48 273.31h10.112v-41.472h-10.112z\" clip-path=\"url(#b3dd4b0e0f9)\" fill=\"#ff7f0e\" opacity=\".5\"/><path d=\"m347.59 273.31h10.112v-36.864h-10.112z\" clip-path=\"url(#b3dd4b0e0f9)\" fill=\"#ff7f0e\" opacity=\".5\"/><path d=\"m357.7 273.31h10.112v-18.432h-10.112z\" clip-path=\"url(#b3dd4b0e0f9)\" fill=\"#ff7f0e\" opacity=\".5\"/><defs><path id=\"d1d2f3afde7\" d=\"m0 0v3.5\" stroke=\"#000000\" stroke-width=\".8\"/></defs><use x=\"95.145663\" y=\"273.312\" stroke=\"#000000\" stroke-width=\".8\" xlink:href=\"#d1d2f3afde7\"/><g transform=\"translate(91.964 287.91) scale(.1 -.1)\"><defs><path id=\"DejaVuSans-32\" transform=\"scale(.015625)\" d=\"m1228 531h2203v-531h-2962v531q359 372 979 998 621 627 780 809 303 340 423 576 121 236 121 464 0 372-261 606-261 235-680 235-297 0-627-103-329-103-704-313v638q381 153 712 231 332 78 607 78 725 0 1156-363 431-362 431-968 0-288-108-546-107-257-392-607-78-91-497-524-418-433-1181-1211z\"/></defs><use xlink:href=\"#DejaVuSans-32\"/></g><use x=\"169.523584\" y=\"273.312\" stroke=\"#000000\" stroke-width=\".8\" xlink:href=\"#d1d2f3afde7\"/><g transform=\"translate(166.34 287.91) scale(.1 -.1)\"><defs><path id=\"DejaVuSans-34\" transform=\"scale(.015625)\" d=\"m2419 4116-1594-2491h1594v2491zm-166 550h794v-3041h666v-525h-666v-1100h-628v1100h-2106v609l1940 2957z\"/></defs><use xlink:href=\"#DejaVuSans-34\"/></g><use x=\"243.901504\" y=\"273.312\" stroke=\"#000000\" stroke-width=\".8\" xlink:href=\"#d1d2f3afde7\"/><g transform=\"translate(240.72 287.91) scale(.1 -.1)\"><defs><path id=\"DejaVuSans-36\" transform=\"scale(.015625)\" d=\"m2113 2584q-425 0-674-291-248-290-248-796 0-503 248-796 249-292 674-292t673 292q248 293 248 796 0 506-248 796-248 291-673 291zm1253 1979v-575q-238 112-480 171-242 60-480 60-625 0-955-422-329-422-376-1275 184 272 462 417 279 145 613 145 703 0 1111-427 408-426 408-1160 0-719-425-1154-425-434-1131-434-810 0-1238 620-428 621-428 1799 0 1106 525 1764t1409 658q238 0 480-47t505-140z\"/></defs><use xlink:href=\"#DejaVuSans-36\"/></g><use x=\"318.279425\" y=\"273.312\" stroke=\"#000000\" stroke-width=\".8\" xlink:href=\"#d1d2f3afde7\"/><g transform=\"translate(315.1 287.91) scale(.1 -.1)\"><defs><path id=\"DejaVuSans-38\" transform=\"scale(.015625)\" d=\"m2034 2216q-450 0-708-241-257-241-257-662 0-422 257-663 258-241 708-241t709 242q260 243 260 662 0 421-258 662-257 241-711 241zm-631 268q-406 100-633 378-226 279-226 679 0 559 398 884 399 325 1092 325 697 0 1094-325t397-884q0-400-227-679-226-278-629-378 456-106 710-416 255-309 255-755 0-679-414-1042-414-362-1186-362-771 0-1186 362-414 363-414 1042 0 446 256 755 257 310 713 416zm-231 997q0-362 226-565 227-203 636-203 407 0 636 203 230 203 230 565 0 363-230 566-229 203-636 203-409 0-636-203-226-203-226-566z\"/></defs><use xlink:href=\"#DejaVuSans-38\"/></g><defs><path id=\"75cd8bfe8c7\" d=\"m0 0h-3.5\" stroke=\"#000000\" stroke-width=\".8\"/></defs><use x=\"26.925\" y=\"273.312\" stroke=\"#000000\" stroke-width=\".8\" xlink:href=\"#75cd8bfe8c7\"/><g transform=\"translate(13.562 277.11) scale(.1 -.1)\"><defs><path id=\"DejaVuSans-30\" transform=\"scale(.015625)\" d=\"m2034 4250q-487 0-733-480-245-479-245-1442 0-959 245-1439 246-480 733-480 491 0 736 480 246 480 246 1439 0 963-246 1442-245 480-736 480zm0 500q785 0 1199-621 414-620 414-1801 0-1178-414-1799-414-620-1199-620-784 0-1198 620-414 621-414 1799 0 1181 414 1801 414 621 1198 621z\"/></defs><use xlink:href=\"#DejaVuSans-30\"/></g><use x=\"26.925\" y=\"227.232\" stroke=\"#000000\" stroke-width=\".8\" xlink:href=\"#75cd8bfe8c7\"/><g transform=\"translate(7.2 231.03) scale(.1 -.1)\"><defs><path id=\"DejaVuSans-31\" transform=\"scale(.015625)\" d=\"m794 531h1031v3560l-1122-225v575l1116 225h631v-4135h1031v-531h-2687v531z\"/></defs><use xlink:href=\"#DejaVuSans-31\"/><use transform=\"translate(63.623)\" xlink:href=\"#DejaVuSans-30\"/></g><use x=\"26.925\" y=\"181.152\" stroke=\"#000000\" stroke-width=\".8\" xlink:href=\"#75cd8bfe8c7\"/><g transform=\"translate(7.2 184.95) scale(.1 -.1)\"><use xlink:href=\"#DejaVuSans-32\"/><use transform=\"translate(63.623)\" xlink:href=\"#DejaVuSans-30\"/></g><use x=\"26.925\" y=\"135.072\" stroke=\"#000000\" stroke-width=\".8\" xlink:href=\"#75cd8bfe8c7\"/><g transform=\"translate(7.2 138.87) scale(.1 -.1)\"><defs><path id=\"DejaVuSans-33\" transform=\"scale(.015625)\" d=\"m2597 2516q453-97 707-404 255-306 255-756 0-690-475-1069-475-378-1350-378-293 0-604 58t-642 174v609q262-153 574-231 313-78 654-78 593 0 904 234t311 681q0 413-289 645-289 233-804 233h-544v519h569q465 0 712 186t247 536q0 359-255 551-254 193-729 193-260 0-557-57-297-56-653-174v562q360 100 674 150t592 50q719 0 1137-327 419-326 419-882 0-388-222-655t-631-370z\"/></defs><use xlink:href=\"#DejaVuSans-33\"/><use transform=\"translate(63.623)\" xlink:href=\"#DejaVuSans-30\"/></g><use x=\"26.925\" y=\"88.992\" stroke=\"#000000\" stroke-width=\".8\" xlink:href=\"#75cd8bfe8c7\"/><g transform=\"translate(7.2 92.791) scale(.1 -.1)\"><use xlink:href=\"#DejaVuSans-34\"/><use transform=\"translate(63.623)\" xlink:href=\"#DejaVuSans-30\"/></g><use x=\"26.925\" y=\"42.912\" stroke=\"#000000\" stroke-width=\".8\" xlink:href=\"#75cd8bfe8c7\"/><g transform=\"translate(7.2 46.711) scale(.1 -.1)\"><defs><path id=\"DejaVuSans-35\" transform=\"scale(.015625)\" d=\"m691 4666h2478v-532h-1900v-1143q137 47 274 70 138 23 276 23 781 0 1237-428 457-428 457-1159 0-753-469-1171-469-417-1322-417-294 0-599 50-304 50-629 150v635q281-153 581-228t634-75q541 0 856 284 316 284 316 772 0 487-316 771-315 285-856 285-253 0-505-56-251-56-513-175v2344z\"/></defs><use xlink:href=\"#DejaVuSans-35\"/><use transform=\"translate(63.623)\" xlink:href=\"#DejaVuSans-30\"/></g><path d=\"m26.925 273.31v-266.11\" fill=\"none\" stroke=\"#000000\" stroke-linecap=\"square\" stroke-width=\".8\"/><path d=\"m384.04 273.31v-266.11\" fill=\"none\" stroke=\"#000000\" stroke-linecap=\"square\" stroke-width=\".8\"/><path d=\"m26.925 273.31h357.12\" fill=\"none\" stroke=\"#000000\" stroke-linecap=\"square\" stroke-width=\".8\"/><path d=\"m26.925 7.2h357.12\" fill=\"none\" stroke=\"#000000\" stroke-linecap=\"square\" stroke-width=\".8\"/><defs><clipPath id=\"b3dd4b0e0f9\"><rect x=\"26.925\" y=\"7.2\" width=\"357.12\" height=\"266.11\"/></clipPath></defs></svg>"
      ],
      "text/plain": [
       "<Figure size 640x480 with 1 Axes>"
      ]
     },
     "metadata": {},
     "output_type": "display_data"
    }
   ],
   "source": [
    "plt.hist(np.log10(flopss), bins=31, alpha=0.5);\n",
    "plt.hist(np.log10(sizes), bins=31, alpha=0.5);"
   ]
  },
  {
   "cell_type": "markdown",
   "id": "7ba3a3a6",
   "metadata": {},
   "source": [
    "Generate cheaper pairwise contractions for verifying `einsum` implementations,\n",
    "these include sum and trace indices."
   ]
  },
  {
   "cell_type": "code",
   "execution_count": 4,
   "id": "a35f6828",
   "metadata": {},
   "outputs": [],
   "source": [
    "flopss = []\n",
    "sizes = []\n",
    "\n",
    "out_path = pathlib.Path(\"contractions_verify.txt\")\n",
    "out_path.parent.mkdir(parents=True, exist_ok=True)\n",
    "i = 0\n",
    "\n",
    "seen = set()\n",
    "\n",
    "with out_path.open(mode=\"w\", encoding=\"utf-8\") as f:\n",
    "\n",
    "    for C in np.arange(2.0, 16.01, 0.5):\n",
    "        for seed in range(50):\n",
    "\n",
    "            inputs, output, size_dict = einbench.random_pairwise_contraction(\n",
    "                cost=2**C,\n",
    "                allow_batch=True,\n",
    "                allow_outer=True,\n",
    "                allow_scalar=True,\n",
    "                allow_sum=True,\n",
    "                allow_trace=True,\n",
    "                seed=seed\n",
    "            )\n",
    "\n",
    "            eq = (\n",
    "                f\"{''.join(inputs[0])},\"\n",
    "                f\"{''.join(inputs[1])}->\"\n",
    "                f\"{''.join(output)}\"\n",
    "            )\n",
    "\n",
    "            con = f\"{eq}; size_dict={size_dict};\"\n",
    "            if eq in seen:\n",
    "                continue\n",
    "            seen.add(eq)\n",
    "\n",
    "            # eq = ctg.utils.inputs_output_to_eq(inputs, output)\n",
    "            f.write(f\"i={i}; {con}\\n\")\n",
    "\n",
    "            flops, size = einbench.compute_flops_and_size(\n",
    "                inputs, output, size_dict\n",
    "            )\n",
    "            flopss.append(flops)\n",
    "            sizes.append(size)\n",
    "            i += 1"
   ]
  },
  {
   "cell_type": "code",
   "execution_count": 5,
   "id": "f046b953",
   "metadata": {},
   "outputs": [
    {
     "data": {
      "image/svg+xml": [
       "<?xml version=\"1.0\" encoding=\"UTF-8\"?><!DOCTYPE svg  PUBLIC '-//W3C//DTD SVG 1.1//EN'  'http://www.w3.org/Graphics/SVG/1.1/DTD/svg11.dtd'><svg width=\"391.24pt\" height=\"297.19pt\" version=\"1.1\" viewBox=\"0 0 391.24 297.19\" xmlns=\"http://www.w3.org/2000/svg\" xmlns:xlink=\"http://www.w3.org/1999/xlink\"><defs><style type=\"text/css\">*{stroke-linejoin: round; stroke-linecap: butt}</style></defs><path d=\"m0 297.19h391.24v-297.19h-391.24z\" fill=\"#ffffff\"/><path d=\"m26.925 273.31h357.12v-266.11h-357.12z\" fill=\"#ffffff\"/><path d=\"m43.158 273.31h7.1632v-136.72h-7.1632z\" clip-path=\"url(#086cca49a85)\" fill=\"#1f77b4\" opacity=\".5\"/><path d=\"m50.321 273.31h7.1632v-16.674h-7.1632z\" clip-path=\"url(#086cca49a85)\" fill=\"#1f77b4\" opacity=\".5\"/><path d=\"m57.484 273.31h7.1632v-146.73h-7.1632z\" clip-path=\"url(#086cca49a85)\" fill=\"#1f77b4\" opacity=\".5\"/><path d=\"m64.647 273.31h7.1632v-40.017h-7.1632z\" clip-path=\"url(#086cca49a85)\" fill=\"#1f77b4\" opacity=\".5\"/><path d=\"m71.811 273.31h7.1632v-150.06h-7.1632z\" clip-path=\"url(#086cca49a85)\" fill=\"#1f77b4\" opacity=\".5\"/><path d=\"m78.974 273.31h7.1632v-76.699h-7.1632z\" clip-path=\"url(#086cca49a85)\" fill=\"#1f77b4\" opacity=\".5\"/><path d=\"m86.137 273.31h7.1632v-140.06h-7.1632z\" clip-path=\"url(#086cca49a85)\" fill=\"#1f77b4\" opacity=\".5\"/><path d=\"m93.3 273.31h7.1632v-96.707h-7.1632z\" clip-path=\"url(#086cca49a85)\" fill=\"#1f77b4\" opacity=\".5\"/><path d=\"m100.46 273.31h7.1632v-120.05h-7.1632z\" clip-path=\"url(#086cca49a85)\" fill=\"#1f77b4\" opacity=\".5\"/><path d=\"m107.63 273.31h7.1632v-93.373h-7.1632z\" clip-path=\"url(#086cca49a85)\" fill=\"#1f77b4\" opacity=\".5\"/><path d=\"m114.79 273.31h7.1632v-83.368h-7.1632z\" clip-path=\"url(#086cca49a85)\" fill=\"#1f77b4\" opacity=\".5\"/><path d=\"m121.95 273.31h7.1632v-170.07h-7.1632z\" clip-path=\"url(#086cca49a85)\" fill=\"#1f77b4\" opacity=\".5\"/><path d=\"m129.12 273.31h7.1632v-83.368h-7.1632z\" clip-path=\"url(#086cca49a85)\" fill=\"#1f77b4\" opacity=\".5\"/><path d=\"m136.28 273.31h7.1632v-133.39h-7.1632z\" clip-path=\"url(#086cca49a85)\" fill=\"#1f77b4\" opacity=\".5\"/><path d=\"m143.44 273.31h7.1632v-103.38h-7.1632z\" clip-path=\"url(#086cca49a85)\" fill=\"#1f77b4\" opacity=\".5\"/><path d=\"m150.61 273.31h7.1632v-133.39h-7.1632z\" clip-path=\"url(#086cca49a85)\" fill=\"#1f77b4\" opacity=\".5\"/><path d=\"m157.77 273.31h7.1632v-113.38h-7.1632z\" clip-path=\"url(#086cca49a85)\" fill=\"#1f77b4\" opacity=\".5\"/><path d=\"m164.93 273.31h7.1632v-116.72h-7.1632z\" clip-path=\"url(#086cca49a85)\" fill=\"#1f77b4\" opacity=\".5\"/><path d=\"m172.1 273.31h7.1632v-130.05h-7.1632z\" clip-path=\"url(#086cca49a85)\" fill=\"#1f77b4\" opacity=\".5\"/><path d=\"m179.26 273.31h7.1632v-136.72h-7.1632z\" clip-path=\"url(#086cca49a85)\" fill=\"#1f77b4\" opacity=\".5\"/><path d=\"m186.42 273.31h7.1632v-106.71h-7.1632z\" clip-path=\"url(#086cca49a85)\" fill=\"#1f77b4\" opacity=\".5\"/><path d=\"m193.59 273.31h7.1632v-136.72h-7.1632z\" clip-path=\"url(#086cca49a85)\" fill=\"#1f77b4\" opacity=\".5\"/><path d=\"m200.75 273.31h7.1632v-126.72h-7.1632z\" clip-path=\"url(#086cca49a85)\" fill=\"#1f77b4\" opacity=\".5\"/><path d=\"m207.91 273.31h7.1632v-96.707h-7.1632z\" clip-path=\"url(#086cca49a85)\" fill=\"#1f77b4\" opacity=\".5\"/><path d=\"m215.07 273.31h7.1632v-113.38h-7.1632z\" clip-path=\"url(#086cca49a85)\" fill=\"#1f77b4\" opacity=\".5\"/><path d=\"m222.24 273.31h7.1632v-156.73h-7.1632z\" clip-path=\"url(#086cca49a85)\" fill=\"#1f77b4\" opacity=\".5\"/><path d=\"m229.4 273.31h7.1632v-140.06h-7.1632z\" clip-path=\"url(#086cca49a85)\" fill=\"#1f77b4\" opacity=\".5\"/><path d=\"m236.56 273.31h7.1632v-146.73h-7.1632z\" clip-path=\"url(#086cca49a85)\" fill=\"#1f77b4\" opacity=\".5\"/><path d=\"m243.73 273.31h7.1632v-130.05h-7.1632z\" clip-path=\"url(#086cca49a85)\" fill=\"#1f77b4\" opacity=\".5\"/><path d=\"m250.89 273.31h7.1632v-140.06h-7.1632z\" clip-path=\"url(#086cca49a85)\" fill=\"#1f77b4\" opacity=\".5\"/><path d=\"m258.05 273.31h7.1632v-133.39h-7.1632z\" clip-path=\"url(#086cca49a85)\" fill=\"#1f77b4\" opacity=\".5\"/><path d=\"m52.447 273.31h10.173v-90.038h-10.173z\" clip-path=\"url(#086cca49a85)\" fill=\"#ff7f0e\" opacity=\".5\"/><path d=\"m62.62 273.31h10.173v-116.72h-10.173z\" clip-path=\"url(#086cca49a85)\" fill=\"#ff7f0e\" opacity=\".5\"/><path d=\"m72.793 273.31h10.173v-113.38h-10.173z\" clip-path=\"url(#086cca49a85)\" fill=\"#ff7f0e\" opacity=\".5\"/><path d=\"m82.966 273.31h10.173v-190.08h-10.173z\" clip-path=\"url(#086cca49a85)\" fill=\"#ff7f0e\" opacity=\".5\"/><path d=\"m93.139 273.31h10.173v-223.43h-10.173z\" clip-path=\"url(#086cca49a85)\" fill=\"#ff7f0e\" opacity=\".5\"/><path d=\"m103.31 273.31h10.173v-183.41h-10.173z\" clip-path=\"url(#086cca49a85)\" fill=\"#ff7f0e\" opacity=\".5\"/><path d=\"m113.49 273.31h10.173v-213.42h-10.173z\" clip-path=\"url(#086cca49a85)\" fill=\"#ff7f0e\" opacity=\".5\"/><path d=\"m123.66 273.31h10.173v-176.74h-10.173z\" clip-path=\"url(#086cca49a85)\" fill=\"#ff7f0e\" opacity=\".5\"/><path d=\"m133.83 273.31h10.173v-196.75h-10.173z\" clip-path=\"url(#086cca49a85)\" fill=\"#ff7f0e\" opacity=\".5\"/><path d=\"m144 273.31h10.173v-226.76h-10.173z\" clip-path=\"url(#086cca49a85)\" fill=\"#ff7f0e\" opacity=\".5\"/><path d=\"m154.18 273.31h10.173v-230.1h-10.173z\" clip-path=\"url(#086cca49a85)\" fill=\"#ff7f0e\" opacity=\".5\"/><path d=\"m164.35 273.31h10.173v-200.08h-10.173z\" clip-path=\"url(#086cca49a85)\" fill=\"#ff7f0e\" opacity=\".5\"/><path d=\"m174.52 273.31h10.173v-190.08h-10.173z\" clip-path=\"url(#086cca49a85)\" fill=\"#ff7f0e\" opacity=\".5\"/><path d=\"m184.7 273.31h10.173v-253.44h-10.173z\" clip-path=\"url(#086cca49a85)\" fill=\"#ff7f0e\" opacity=\".5\"/><path d=\"m194.87 273.31h10.173v-246.77h-10.173z\" clip-path=\"url(#086cca49a85)\" fill=\"#ff7f0e\" opacity=\".5\"/><path d=\"m205.04 273.31h10.173v-183.41h-10.173z\" clip-path=\"url(#086cca49a85)\" fill=\"#ff7f0e\" opacity=\".5\"/><path d=\"m215.22 273.31h10.173v-150.06h-10.173z\" clip-path=\"url(#086cca49a85)\" fill=\"#ff7f0e\" opacity=\".5\"/><path d=\"m225.39 273.31h10.173v-163.4h-10.173z\" clip-path=\"url(#086cca49a85)\" fill=\"#ff7f0e\" opacity=\".5\"/><path d=\"m235.56 273.31h10.173v-83.368h-10.173z\" clip-path=\"url(#086cca49a85)\" fill=\"#ff7f0e\" opacity=\".5\"/><path d=\"m245.74 273.31h10.173v-50.021h-10.173z\" clip-path=\"url(#086cca49a85)\" fill=\"#ff7f0e\" opacity=\".5\"/><path d=\"m255.91 273.31h10.173v-56.691h-10.173z\" clip-path=\"url(#086cca49a85)\" fill=\"#ff7f0e\" opacity=\".5\"/><path d=\"m266.08 273.31h10.173v-53.356h-10.173z\" clip-path=\"url(#086cca49a85)\" fill=\"#ff7f0e\" opacity=\".5\"/><path d=\"m276.25 273.31h10.173v-13.339h-10.173z\" clip-path=\"url(#086cca49a85)\" fill=\"#ff7f0e\" opacity=\".5\"/><path d=\"m286.43 273.31h10.173v-13.339h-10.173z\" clip-path=\"url(#086cca49a85)\" fill=\"#ff7f0e\" opacity=\".5\"/><path d=\"m296.6 273.31h10.173v-13.339h-10.173z\" clip-path=\"url(#086cca49a85)\" fill=\"#ff7f0e\" opacity=\".5\"/><path d=\"m306.77 273.31h10.173v-6.6695h-10.173z\" clip-path=\"url(#086cca49a85)\" fill=\"#ff7f0e\" opacity=\".5\"/><path d=\"m316.95 273.31h10.173-10.173z\" clip-path=\"url(#086cca49a85)\" fill=\"#ff7f0e\" opacity=\".5\"/><path d=\"m327.12 273.31h10.173-10.173z\" clip-path=\"url(#086cca49a85)\" fill=\"#ff7f0e\" opacity=\".5\"/><path d=\"m337.29 273.31h10.173-10.173z\" clip-path=\"url(#086cca49a85)\" fill=\"#ff7f0e\" opacity=\".5\"/><path d=\"m347.47 273.31h10.173-10.173z\" clip-path=\"url(#086cca49a85)\" fill=\"#ff7f0e\" opacity=\".5\"/><path d=\"m357.64 273.31h10.173v-10.004h-10.173z\" clip-path=\"url(#086cca49a85)\" fill=\"#ff7f0e\" opacity=\".5\"/><defs><path id=\"ae52098ab09\" d=\"m0 0v3.5\" stroke=\"#000000\" stroke-width=\".8\"/></defs><use x=\"64.149787\" y=\"273.312\" stroke=\"#000000\" stroke-width=\".8\" xlink:href=\"#ae52098ab09\"/><g transform=\"translate(60.969 287.91) scale(.1 -.1)\"><defs><path id=\"DejaVuSans-31\" transform=\"scale(.015625)\" d=\"m794 531h1031v3560l-1122-225v575l1116 225h631v-4135h1031v-531h-2687v531z\"/></defs><use xlink:href=\"#DejaVuSans-31\"/></g><use x=\"116.901608\" y=\"273.312\" stroke=\"#000000\" stroke-width=\".8\" xlink:href=\"#ae52098ab09\"/><g transform=\"translate(113.72 287.91) scale(.1 -.1)\"><defs><path id=\"DejaVuSans-32\" transform=\"scale(.015625)\" d=\"m1228 531h2203v-531h-2962v531q359 372 979 998 621 627 780 809 303 340 423 576 121 236 121 464 0 372-261 606-261 235-680 235-297 0-627-103-329-103-704-313v638q381 153 712 231 332 78 607 78 725 0 1156-363 431-362 431-968 0-288-108-546-107-257-392-607-78-91-497-524-418-433-1181-1211z\"/></defs><use xlink:href=\"#DejaVuSans-32\"/></g><use x=\"169.653429\" y=\"273.312\" stroke=\"#000000\" stroke-width=\".8\" xlink:href=\"#ae52098ab09\"/><g transform=\"translate(166.47 287.91) scale(.1 -.1)\"><defs><path id=\"DejaVuSans-33\" transform=\"scale(.015625)\" d=\"m2597 2516q453-97 707-404 255-306 255-756 0-690-475-1069-475-378-1350-378-293 0-604 58t-642 174v609q262-153 574-231 313-78 654-78 593 0 904 234t311 681q0 413-289 645-289 233-804 233h-544v519h569q465 0 712 186t247 536q0 359-255 551-254 193-729 193-260 0-557-57-297-56-653-174v562q360 100 674 150t592 50q719 0 1137-327 419-326 419-882 0-388-222-655t-631-370z\"/></defs><use xlink:href=\"#DejaVuSans-33\"/></g><use x=\"222.405249\" y=\"273.312\" stroke=\"#000000\" stroke-width=\".8\" xlink:href=\"#ae52098ab09\"/><g transform=\"translate(219.22 287.91) scale(.1 -.1)\"><defs><path id=\"DejaVuSans-34\" transform=\"scale(.015625)\" d=\"m2419 4116-1594-2491h1594v2491zm-166 550h794v-3041h666v-525h-666v-1100h-628v1100h-2106v609l1940 2957z\"/></defs><use xlink:href=\"#DejaVuSans-34\"/></g><use x=\"275.15707\" y=\"273.312\" stroke=\"#000000\" stroke-width=\".8\" xlink:href=\"#ae52098ab09\"/><g transform=\"translate(271.98 287.91) scale(.1 -.1)\"><defs><path id=\"DejaVuSans-35\" transform=\"scale(.015625)\" d=\"m691 4666h2478v-532h-1900v-1143q137 47 274 70 138 23 276 23 781 0 1237-428 457-428 457-1159 0-753-469-1171-469-417-1322-417-294 0-599 50-304 50-629 150v635q281-153 581-228t634-75q541 0 856 284 316 284 316 772 0 487-316 771-315 285-856 285-253 0-505-56-251-56-513-175v2344z\"/></defs><use xlink:href=\"#DejaVuSans-35\"/></g><use x=\"327.908891\" y=\"273.312\" stroke=\"#000000\" stroke-width=\".8\" xlink:href=\"#ae52098ab09\"/><g transform=\"translate(324.73 287.91) scale(.1 -.1)\"><defs><path id=\"DejaVuSans-36\" transform=\"scale(.015625)\" d=\"m2113 2584q-425 0-674-291-248-290-248-796 0-503 248-796 249-292 674-292t673 292q248 293 248 796 0 506-248 796-248 291-673 291zm1253 1979v-575q-238 112-480 171-242 60-480 60-625 0-955-422-329-422-376-1275 184 272 462 417 279 145 613 145 703 0 1111-427 408-426 408-1160 0-719-425-1154-425-434-1131-434-810 0-1238 620-428 621-428 1799 0 1106 525 1764t1409 658q238 0 480-47t505-140z\"/></defs><use xlink:href=\"#DejaVuSans-36\"/></g><use x=\"380.660712\" y=\"273.312\" stroke=\"#000000\" stroke-width=\".8\" xlink:href=\"#ae52098ab09\"/><g transform=\"translate(377.48 287.91) scale(.1 -.1)\"><defs><path id=\"DejaVuSans-37\" transform=\"scale(.015625)\" d=\"m525 4666h3e3v-269l-1694-4397h-659l1594 4134h-2241v532z\"/></defs><use xlink:href=\"#DejaVuSans-37\"/></g><defs><path id=\"b4248b4640e\" d=\"m0 0h-3.5\" stroke=\"#000000\" stroke-width=\".8\"/></defs><use x=\"26.925\" y=\"273.312\" stroke=\"#000000\" stroke-width=\".8\" xlink:href=\"#b4248b4640e\"/><g transform=\"translate(13.562 277.11) scale(.1 -.1)\"><defs><path id=\"DejaVuSans-30\" transform=\"scale(.015625)\" d=\"m2034 4250q-487 0-733-480-245-479-245-1442 0-959 245-1439 246-480 733-480 491 0 736 480 246 480 246 1439 0 963-246 1442-245 480-736 480zm0 500q785 0 1199-621 414-620 414-1801 0-1178-414-1799-414-620-1199-620-784 0-1198 620-414 621-414 1799 0 1181 414 1801 414 621 1198 621z\"/></defs><use xlink:href=\"#DejaVuSans-30\"/></g><use x=\"26.925\" y=\"239.964632\" stroke=\"#000000\" stroke-width=\".8\" xlink:href=\"#b4248b4640e\"/><g transform=\"translate(7.2 243.76) scale(.1 -.1)\"><use xlink:href=\"#DejaVuSans-31\"/><use transform=\"translate(63.623)\" xlink:href=\"#DejaVuSans-30\"/></g><use x=\"26.925\" y=\"206.617263\" stroke=\"#000000\" stroke-width=\".8\" xlink:href=\"#b4248b4640e\"/><g transform=\"translate(7.2 210.42) scale(.1 -.1)\"><use xlink:href=\"#DejaVuSans-32\"/><use transform=\"translate(63.623)\" xlink:href=\"#DejaVuSans-30\"/></g><use x=\"26.925\" y=\"173.269895\" stroke=\"#000000\" stroke-width=\".8\" xlink:href=\"#b4248b4640e\"/><g transform=\"translate(7.2 177.07) scale(.1 -.1)\"><use xlink:href=\"#DejaVuSans-33\"/><use transform=\"translate(63.623)\" xlink:href=\"#DejaVuSans-30\"/></g><use x=\"26.925\" y=\"139.922526\" stroke=\"#000000\" stroke-width=\".8\" xlink:href=\"#b4248b4640e\"/><g transform=\"translate(7.2 143.72) scale(.1 -.1)\"><use xlink:href=\"#DejaVuSans-34\"/><use transform=\"translate(63.623)\" xlink:href=\"#DejaVuSans-30\"/></g><use x=\"26.925\" y=\"106.575158\" stroke=\"#000000\" stroke-width=\".8\" xlink:href=\"#b4248b4640e\"/><g transform=\"translate(7.2 110.37) scale(.1 -.1)\"><use xlink:href=\"#DejaVuSans-35\"/><use transform=\"translate(63.623)\" xlink:href=\"#DejaVuSans-30\"/></g><use x=\"26.925\" y=\"73.227789\" stroke=\"#000000\" stroke-width=\".8\" xlink:href=\"#b4248b4640e\"/><g transform=\"translate(7.2 77.027) scale(.1 -.1)\"><use xlink:href=\"#DejaVuSans-36\"/><use transform=\"translate(63.623)\" xlink:href=\"#DejaVuSans-30\"/></g><use x=\"26.925\" y=\"39.880421\" stroke=\"#000000\" stroke-width=\".8\" xlink:href=\"#b4248b4640e\"/><g transform=\"translate(7.2 43.68) scale(.1 -.1)\"><use xlink:href=\"#DejaVuSans-37\"/><use transform=\"translate(63.623)\" xlink:href=\"#DejaVuSans-30\"/></g><path d=\"m26.925 273.31v-266.11\" fill=\"none\" stroke=\"#000000\" stroke-linecap=\"square\" stroke-width=\".8\"/><path d=\"m384.04 273.31v-266.11\" fill=\"none\" stroke=\"#000000\" stroke-linecap=\"square\" stroke-width=\".8\"/><path d=\"m26.925 273.31h357.12\" fill=\"none\" stroke=\"#000000\" stroke-linecap=\"square\" stroke-width=\".8\"/><path d=\"m26.925 7.2h357.12\" fill=\"none\" stroke=\"#000000\" stroke-linecap=\"square\" stroke-width=\".8\"/><defs><clipPath id=\"086cca49a85\"><rect x=\"26.925\" y=\"7.2\" width=\"357.12\" height=\"266.11\"/></clipPath></defs></svg>"
      ],
      "text/plain": [
       "<Figure size 640x480 with 1 Axes>"
      ]
     },
     "metadata": {},
     "output_type": "display_data"
    }
   ],
   "source": [
    "plt.hist(np.log10(flopss), bins=31, alpha=0.5);\n",
    "plt.hist(np.log10(sizes), bins=31, alpha=0.5);"
   ]
  }
 ],
 "metadata": {
  "kernelspec": {
   "display_name": "Python 3",
   "language": "python",
   "name": "python3"
  },
  "language_info": {
   "codemirror_mode": {
    "name": "ipython",
    "version": 3
   },
   "file_extension": ".py",
   "mimetype": "text/x-python",
   "name": "python",
   "nbconvert_exporter": "python",
   "pygments_lexer": "ipython3",
   "version": "3"
  }
 },
 "nbformat": 4,
 "nbformat_minor": 5
}
